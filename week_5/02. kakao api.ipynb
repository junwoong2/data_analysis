{
 "cells": [
  {
   "cell_type": "code",
   "execution_count": 4,
   "metadata": {},
   "outputs": [
    {
     "ename": "FileNotFoundError",
     "evalue": "[Errno 2] No such file or directory: 'data/config.yml'",
     "output_type": "error",
     "traceback": [
      "\u001b[0;31m---------------------------------------------------------------------------\u001b[0m",
      "\u001b[0;31mFileNotFoundError\u001b[0m                         Traceback (most recent call last)",
      "Cell \u001b[0;32mIn[4], line 4\u001b[0m\n\u001b[1;32m      1\u001b[0m \u001b[38;5;28;01mimport\u001b[39;00m \u001b[38;5;21;01myaml\u001b[39;00m\n\u001b[1;32m      2\u001b[0m DATA_PATH \u001b[38;5;241m=\u001b[39m \u001b[38;5;124m\"\u001b[39m\u001b[38;5;124mdata/\u001b[39m\u001b[38;5;124m\"\u001b[39m\n\u001b[0;32m----> 4\u001b[0m \u001b[38;5;28;01mwith\u001b[39;00m \u001b[38;5;28;43mopen\u001b[39;49m\u001b[43m(\u001b[49m\u001b[38;5;124;43mf\u001b[39;49m\u001b[38;5;124;43m\"\u001b[39;49m\u001b[38;5;132;43;01m{\u001b[39;49;00m\u001b[43mDATA_PATH\u001b[49m\u001b[38;5;132;43;01m}\u001b[39;49;00m\u001b[38;5;124;43mconfig.yml\u001b[39;49m\u001b[38;5;124;43m\"\u001b[39;49m\u001b[43m,\u001b[49m\u001b[43m \u001b[49m\u001b[38;5;124;43m\"\u001b[39;49m\u001b[38;5;124;43mr\u001b[39;49m\u001b[38;5;124;43m\"\u001b[39;49m\u001b[43m)\u001b[49m \u001b[38;5;28;01mas\u001b[39;00m f:\n\u001b[1;32m      5\u001b[0m     CFG \u001b[38;5;241m=\u001b[39m yaml\u001b[38;5;241m.\u001b[39mfull_load(f)\n",
      "File \u001b[0;32m~/Library/Python/3.10/lib/python/site-packages/IPython/core/interactiveshell.py:324\u001b[0m, in \u001b[0;36m_modified_open\u001b[0;34m(file, *args, **kwargs)\u001b[0m\n\u001b[1;32m    317\u001b[0m \u001b[38;5;28;01mif\u001b[39;00m file \u001b[38;5;129;01min\u001b[39;00m {\u001b[38;5;241m0\u001b[39m, \u001b[38;5;241m1\u001b[39m, \u001b[38;5;241m2\u001b[39m}:\n\u001b[1;32m    318\u001b[0m     \u001b[38;5;28;01mraise\u001b[39;00m \u001b[38;5;167;01mValueError\u001b[39;00m(\n\u001b[1;32m    319\u001b[0m         \u001b[38;5;124mf\u001b[39m\u001b[38;5;124m\"\u001b[39m\u001b[38;5;124mIPython won\u001b[39m\u001b[38;5;124m'\u001b[39m\u001b[38;5;124mt let you open fd=\u001b[39m\u001b[38;5;132;01m{\u001b[39;00mfile\u001b[38;5;132;01m}\u001b[39;00m\u001b[38;5;124m by default \u001b[39m\u001b[38;5;124m\"\u001b[39m\n\u001b[1;32m    320\u001b[0m         \u001b[38;5;124m\"\u001b[39m\u001b[38;5;124mas it is likely to crash IPython. If you know what you are doing, \u001b[39m\u001b[38;5;124m\"\u001b[39m\n\u001b[1;32m    321\u001b[0m         \u001b[38;5;124m\"\u001b[39m\u001b[38;5;124myou can use builtins\u001b[39m\u001b[38;5;124m'\u001b[39m\u001b[38;5;124m open.\u001b[39m\u001b[38;5;124m\"\u001b[39m\n\u001b[1;32m    322\u001b[0m     )\n\u001b[0;32m--> 324\u001b[0m \u001b[38;5;28;01mreturn\u001b[39;00m \u001b[43mio_open\u001b[49m\u001b[43m(\u001b[49m\u001b[43mfile\u001b[49m\u001b[43m,\u001b[49m\u001b[43m \u001b[49m\u001b[38;5;241;43m*\u001b[39;49m\u001b[43margs\u001b[49m\u001b[43m,\u001b[49m\u001b[43m \u001b[49m\u001b[38;5;241;43m*\u001b[39;49m\u001b[38;5;241;43m*\u001b[39;49m\u001b[43mkwargs\u001b[49m\u001b[43m)\u001b[49m\n",
      "\u001b[0;31mFileNotFoundError\u001b[0m: [Errno 2] No such file or directory: 'data/config.yml'"
     ]
    }
   ],
   "source": [
    "import yaml\n",
    "DATA_PATH = \"data/\"\n",
    "\n",
    "with open(f\"{DATA_PATH}config.yml\", \"r\") as f:\n",
    "    CFG = yaml.full_load(f)"
   ]
  },
  {
   "cell_type": "code",
   "execution_count": 5,
   "metadata": {},
   "outputs": [
    {
     "ename": "NameError",
     "evalue": "name 'CFG' is not defined",
     "output_type": "error",
     "traceback": [
      "\u001b[0;31m---------------------------------------------------------------------------\u001b[0m",
      "\u001b[0;31mNameError\u001b[0m                                 Traceback (most recent call last)",
      "Cell \u001b[0;32mIn[5], line 1\u001b[0m\n\u001b[0;32m----> 1\u001b[0m api_key \u001b[38;5;241m=\u001b[39m \u001b[43mCFG\u001b[49m[\u001b[38;5;124m'\u001b[39m\u001b[38;5;124mKAKAO\u001b[39m\u001b[38;5;124m'\u001b[39m][\u001b[38;5;124m'\u001b[39m\u001b[38;5;124mAPI_KEY\u001b[39m\u001b[38;5;124m'\u001b[39m]\n",
      "\u001b[0;31mNameError\u001b[0m: name 'CFG' is not defined"
     ]
    }
   ],
   "source": [
    "api_key = CFG['KAKAO']['API_KEY']"
   ]
  },
  {
   "cell_type": "code",
   "execution_count": 12,
   "metadata": {},
   "outputs": [],
   "source": [
    "import requests"
   ]
  },
  {
   "cell_type": "code",
   "execution_count": 17,
   "metadata": {},
   "outputs": [
    {
     "data": {
      "text/plain": [
       "<Response [200]>"
      ]
     },
     "execution_count": 17,
     "metadata": {},
     "output_type": "execute_result"
    }
   ],
   "source": [
    "url = \"https://dapi.kakao.com/v2/search/web\"\n",
    "headers = {\n",
    "    \"Authorization\": f\"KakaoAK {api_key}\"\n",
    "}\n",
    "\n",
    "params = {\"query\": \"머신러닝\"}\n",
    "res = requests.get(url, params=params,headers=headers)\n",
    "res"
   ]
  },
  {
   "cell_type": "code",
   "execution_count": 23,
   "metadata": {},
   "outputs": [],
   "source": [
    "def search_kakao_api(url, api_key, **params):\n",
    "    headers = {\n",
    "    \"Authorization\": f\"KakaoAK {api_key}\"\n",
    "    }\n",
    "\n",
    "    res = requests.get(url, params=params,headers=headers)\n",
    "    data = res.json()\n",
    "    if res.status_code != 200:\n",
    "        print(res.status_code)\n",
    "        data = None\n",
    "\n",
    "    return data"
   ]
  },
  {
   "cell_type": "code",
   "execution_count": 25,
   "metadata": {},
   "outputs": [
    {
     "data": {
      "text/plain": [
       "[{'contents': '확률론/베이지언 통계학을 배워야 한다. 수리통계학: 가설검정, 회귀 분석, 여러 가지 확률 분포들이 <b>머신러닝</b> 기법에 등장한다. 이를 개념적으로 아는 것뿐만 아니라 직접 수리적으로 다룰 수 있어야 한다...',\n",
       "  'datetime': '2024-09-22T00:00:00.000+09:00',\n",
       "  'title': '기계학습 - 나무위키',\n",
       "  'url': 'https://namu.wiki/w/%EA%B8%B0%EA%B3%84%ED%95%99%EC%8A%B5'},\n",
       " {'contents': 'PlayStation 6, Xbox Next는 <b>머신 러닝</b>으로 가장 큰 세대적 도약을 이룰 수 있습니다. 현재 세대는 과대평가되었습니다. PlayStation 6과 다음 Xbox 콘솔은 아직 공식적으로 공개되지 않았지만 Microsoft는 이미...',\n",
       "  'datetime': '2024-09-03T23:29:36.000+09:00',\n",
       "  'title': 'PS6 <b>머신러닝</b>으로 엄청난 도약 있을 것',\n",
       "  'url': 'https://gall.dcinside.com/mgallery/board/view/?id=ps5&no=437858'}]"
      ]
     },
     "execution_count": 25,
     "metadata": {},
     "output_type": "execute_result"
    }
   ],
   "source": [
    "data = search_kakao_api(url, api_key, query=\"머신러닝\", size=2)\n",
    "data['documents']"
   ]
  },
  {
   "cell_type": "code",
   "execution_count": 26,
   "metadata": {},
   "outputs": [
    {
     "name": "stdout",
     "output_type": "stream",
     "text": [
      "[{'contents': '확률론/베이지언 통계학을 배워야 한다. 수리통계학: 가설검정, 회귀 분석, 여러 가지 확률 분포들이 '\n",
      "              '<b>머신러닝</b> 기법에 등장한다. 이를 개념적으로 아는 것뿐만 아니라 직접 수리적으로 다룰 수 있어야 '\n",
      "              '한다...',\n",
      "  'datetime': '2024-09-22T00:00:00.000+09:00',\n",
      "  'title': '기계학습 - 나무위키',\n",
      "  'url': 'https://namu.wiki/w/%EA%B8%B0%EA%B3%84%ED%95%99%EC%8A%B5'},\n",
      " {'contents': 'PlayStation 6, Xbox Next는 <b>머신 러닝</b>으로 가장 큰 세대적 도약을 이룰 수 '\n",
      "              '있습니다. 현재 세대는 과대평가되었습니다. PlayStation 6과 다음 Xbox 콘솔은 아직 공식적으로 '\n",
      "              '공개되지 않았지만 Microsoft는 이미...',\n",
      "  'datetime': '2024-09-03T23:29:36.000+09:00',\n",
      "  'title': 'PS6 <b>머신러닝</b>으로 엄청난 도약 있을 것',\n",
      "  'url': 'https://gall.dcinside.com/mgallery/board/view/?id=ps5&no=437858'}]\n"
     ]
    }
   ],
   "source": [
    "from pprint import pprint\n",
    "pprint(data['documents'])"
   ]
  },
  {
   "cell_type": "code",
   "execution_count": 30,
   "metadata": {},
   "outputs": [
    {
     "data": {
      "text/plain": [
       "<Response [200]>"
      ]
     },
     "execution_count": 30,
     "metadata": {},
     "output_type": "execute_result"
    }
   ],
   "source": [
    "url = 'https://api.kakaobrain.com/v1/inference/kogpt/generation'\n",
    "headers = {\n",
    "    \"Authorization\": f\"KakaoAK {api_key}\"\n",
    "}\n",
    "\n",
    "data = {\n",
    "    \"prompt\" : \"데이터 분석이란 \",\n",
    "    \"max_tokens\" : 200\n",
    "}\n",
    "\n",
    "res = requests.post(url, json=data, headers=headers)\n",
    "res"
   ]
  },
  {
   "cell_type": "code",
   "execution_count": 31,
   "metadata": {},
   "outputs": [
    {
     "data": {
      "text/plain": [
       "{'id': '69e0a44e-c901-477b-9e3d-6789a88b2500',\n",
       " 'generations': [{'text': ' 컴퓨터를 이용해 다수의 정보들을 수집·분류하고, 그중에서 일정한 법칙과 규칙에 의한 패턴이나 경향을 찾아내어 실체의 모습과 특성을 파악하는 과정 또는 방법론\"1)이다. 빅 데이터를 활용하여 머신러닝(machine learning), 딥네트워크분석 등 보다 고도화된 기술들의 결합체가 하나의 인공지능 시스템으로 변화해 나가고 있다. 2020년 1월 25일 개최된 \\'구글 AI 포럼\\'은 5명의 공학박사 출신의 엔지니어들이 모여 \"인공지능과 강화학습2020 전략 (Artificial Intelligence and Reconfiguring the Internet of Things) 이라는 주제로 이론 및 토론을 전개했는데, 이와 같이 이전까지 시스템 구축  분야로만 한정돼오던 기업들이 디지털 트랜스포메이션2), 즉 모든 산업영역  전반에 걸친 전반적인 변혁의 시점에서 등장하게 된 새로운 자율주행시스템에도 다양한 공학적인 접근방법이 필요해졌다고 볼 수',\n",
       "   'tokens': 200}],\n",
       " 'usage': {'prompt_tokens': 4, 'generated_tokens': 200, 'total_tokens': 204}}"
      ]
     },
     "execution_count": 31,
     "metadata": {},
     "output_type": "execute_result"
    }
   ],
   "source": [
    "result = res.json()\n",
    "result"
   ]
  },
  {
   "cell_type": "markdown",
   "metadata": {},
   "source": [
    "- 클래스로 만들어 보기"
   ]
  },
  {
   "cell_type": "code",
   "execution_count": 33,
   "metadata": {},
   "outputs": [
    {
     "data": {
      "text/plain": [
       "'https://api.kakaobrain.com/v1/inference/kogpt/generation'"
      ]
     },
     "execution_count": 33,
     "metadata": {},
     "output_type": "execute_result"
    }
   ],
   "source": [
    "url"
   ]
  },
  {
   "cell_type": "code",
   "execution_count": 39,
   "metadata": {},
   "outputs": [],
   "source": [
    "class KakaoAI:\n",
    "    def __init__(self, api_key, url):\n",
    "        self.url = url\n",
    "        self.headers = {\n",
    "            \"Authorization\": f\"KakaoAK {api_key}\"\n",
    "        }\n",
    "        \n",
    "    def generate(self, data):\n",
    "        res = requests.post(self.url, headers=self.headers, json=data)\n",
    "        return res.json()"
   ]
  },
  {
   "cell_type": "code",
   "execution_count": 40,
   "metadata": {},
   "outputs": [
    {
     "data": {
      "text/plain": [
       "{'id': '19b0a783-8094-4ee3-a32e-f8551a1eb304',\n",
       " 'generations': [{'text': \" 데이터의 일부변수에 관심을 두는 통계기법이며, 경영 조직으로부터 취합된 정보를 자동적으로 이해할 수 있게 한다. 기업은 데이터분석 솔루션인 빅데이라 플랫폼(Big Data Platform)을 이용하여 방대한 양의 정형 또는 비정형 형태로 존재하는 복합 경쟁력 측면에서 파생되면적 이슈 및 가치정보 등 관련 '컨텍스트'추론에 명확한 지식기반 비즈니스 인텔 usage infrastructure and Adoption evaluation of the to Measure and 적 관점(경영지식 기반 프로세스 관리지원 포함), 고객 니즈 파악능력 개선 으로 차별화 전략 이루어질 것이라 예측된다.\\n도출 기능 통해 지속적인 고성과창출 Knowledge Based Business Driving Support for R&D of IT 향후 중국시장 진출 시 주요 글로벌기업과 함께 활발한 ICT 융복합 데 본 연구자는 측정 방법으로서 기존 대체행위연구와 이동 후기 위하 발전사 수출기회 주목해야 함 SNS 트래킹 기법 Analysis Approach Us\",\n",
       "   'tokens': 200}],\n",
       " 'usage': {'prompt_tokens': 4, 'generated_tokens': 200, 'total_tokens': 204}}"
      ]
     },
     "execution_count": 40,
     "metadata": {},
     "output_type": "execute_result"
    }
   ],
   "source": [
    "data = {\n",
    "    \"prompt\" : \"데이터 분석이란 \",\n",
    "    \"max_tokens\" : 200\n",
    "}\n",
    "\n",
    "ko_gpt = KakaoAI(api_key, url)\n",
    "ko_gpt.generate(data)"
   ]
  },
  {
   "cell_type": "code",
   "execution_count": 42,
   "metadata": {},
   "outputs": [],
   "source": [
    "prompt='''주어진 문장을 존댓말 문장으로 바꿔주세요.\n",
    "\n",
    "문장:하지마!\n",
    "존댓말:하지 말아주세요.\n",
    "\n",
    "문장:나랑 같이 놀러가자\n",
    "존댓말:저랑 같이 놀러가지 않으실래요?\n",
    "\n",
    "문장:배고파 밥줘\n",
    "존댓말:배가고픈데 밥을 먹어도 될까요?\n",
    "\n",
    "문장:그거 재밌어?\n",
    "존댓말:그것은 재미 있나요?\n",
    "\n",
    "문장:뭐하는거야 지금\n",
    "존댓말:지금 무엇을 하시는 건가요?\n",
    "\n",
    "문장:당장 제자리에 돌려놔\n",
    "존댓말:'''"
   ]
  },
  {
   "cell_type": "code",
   "execution_count": 2,
   "metadata": {},
   "outputs": [
    {
     "ename": "NameError",
     "evalue": "name 'prompt' is not defined",
     "output_type": "error",
     "traceback": [
      "\u001b[0;31m---------------------------------------------------------------------------\u001b[0m",
      "\u001b[0;31mNameError\u001b[0m                                 Traceback (most recent call last)",
      "Cell \u001b[0;32mIn[2], line 3\u001b[0m\n\u001b[1;32m      1\u001b[0m url \u001b[38;5;241m=\u001b[39m \u001b[38;5;124m'\u001b[39m\u001b[38;5;124mhttps://api.kakaobrain.com/v1/inference/kogpt/generation\u001b[39m\u001b[38;5;124m'\u001b[39m\n\u001b[1;32m      2\u001b[0m data \u001b[38;5;241m=\u001b[39m {\n\u001b[0;32m----> 3\u001b[0m     \u001b[38;5;124m\"\u001b[39m\u001b[38;5;124mprompt\u001b[39m\u001b[38;5;124m\"\u001b[39m : \u001b[43mprompt\u001b[49m,\n\u001b[1;32m      4\u001b[0m     \u001b[38;5;124m\"\u001b[39m\u001b[38;5;124mmax_tokens\u001b[39m\u001b[38;5;124m\"\u001b[39m : \u001b[38;5;241m200\u001b[39m\n\u001b[1;32m      5\u001b[0m }\n\u001b[1;32m      7\u001b[0m ko_gpt \u001b[38;5;241m=\u001b[39m KakaoAI(api_key, url)\n\u001b[1;32m      8\u001b[0m ko_gpt\u001b[38;5;241m.\u001b[39mgenerate(data)\n",
      "\u001b[0;31mNameError\u001b[0m: name 'prompt' is not defined"
     ]
    }
   ],
   "source": [
    "url = 'https://api.kakaobrain.com/v1/inference/kogpt/generation'\n",
    "data = {\n",
    "    \"prompt\" : prompt,\n",
    "    \"max_tokens\" : 200\n",
    "}\n",
    "\n",
    "ko_gpt = KakaoAI(api_key, url)\n",
    "ko_gpt.generate(data)"
   ]
  },
  {
   "cell_type": "code",
   "execution_count": null,
   "metadata": {},
   "outputs": [],
   "source": []
  },
  {
   "cell_type": "code",
   "execution_count": null,
   "metadata": {},
   "outputs": [],
   "source": []
  },
  {
   "cell_type": "code",
   "execution_count": null,
   "metadata": {},
   "outputs": [],
   "source": []
  },
  {
   "cell_type": "code",
   "execution_count": 1,
   "metadata": {},
   "outputs": [
    {
     "ename": "NameError",
     "evalue": "name 'KakaoAI' is not defined",
     "output_type": "error",
     "traceback": [
      "\u001b[0;31m---------------------------------------------------------------------------\u001b[0m",
      "\u001b[0;31mNameError\u001b[0m                                 Traceback (most recent call last)",
      "Cell \u001b[0;32mIn[1], line 11\u001b[0m\n\u001b[1;32m      1\u001b[0m url \u001b[38;5;241m=\u001b[39m \u001b[38;5;124m\"\u001b[39m\u001b[38;5;124mhttps://api.kakaobrain.com/v2/inference/karlo/t2i\u001b[39m\u001b[38;5;124m\"\u001b[39m\n\u001b[1;32m      4\u001b[0m data \u001b[38;5;241m=\u001b[39m {\n\u001b[1;32m      5\u001b[0m     \u001b[38;5;124m\"\u001b[39m\u001b[38;5;124mprompt\u001b[39m\u001b[38;5;124m\"\u001b[39m : \u001b[38;5;124m\"\u001b[39m\u001b[38;5;124mlike lion\u001b[39m\u001b[38;5;124m\"\u001b[39m,\n\u001b[1;32m      6\u001b[0m     \u001b[38;5;124m\"\u001b[39m\u001b[38;5;124mversion\u001b[39m\u001b[38;5;124m\"\u001b[39m : \u001b[38;5;124m\"\u001b[39m\u001b[38;5;124mv2.1\u001b[39m\u001b[38;5;124m\"\u001b[39m,\n\u001b[1;32m      7\u001b[0m     \u001b[38;5;124m\"\u001b[39m\u001b[38;5;124mwidth\u001b[39m\u001b[38;5;124m\"\u001b[39m : \u001b[38;5;241m768\u001b[39m,\n\u001b[1;32m      8\u001b[0m     \u001b[38;5;124m\"\u001b[39m\u001b[38;5;124mheight\u001b[39m\u001b[38;5;124m\"\u001b[39m : \u001b[38;5;241m768\u001b[39m\n\u001b[1;32m      9\u001b[0m }\n\u001b[0;32m---> 11\u001b[0m ko_gpt \u001b[38;5;241m=\u001b[39m \u001b[43mKakaoAI\u001b[49m(api_key, url)\n\u001b[1;32m     12\u001b[0m result \u001b[38;5;241m=\u001b[39m ko_gpt\u001b[38;5;241m.\u001b[39mgenerate(data)\n\u001b[1;32m     13\u001b[0m result\n",
      "\u001b[0;31mNameError\u001b[0m: name 'KakaoAI' is not defined"
     ]
    }
   ],
   "source": [
    "url = \"https://api.kakaobrain.com/v2/inference/karlo/t2i\"\n",
    "\n",
    "\n",
    "data = {\n",
    "    \"prompt\" : \"like lion\",\n",
    "    \"version\" : \"v2.1\",\n",
    "    \"width\" : 768,\n",
    "    \"height\" : 768\n",
    "}\n",
    "\n",
    "ko_gpt = KakaoAI(api_key, url)\n",
    "result = ko_gpt.generate(data)\n",
    "result"
   ]
  },
  {
   "cell_type": "code",
   "execution_count": null,
   "metadata": {},
   "outputs": [],
   "source": []
  },
  {
   "cell_type": "code",
   "execution_count": null,
   "metadata": {},
   "outputs": [],
   "source": []
  }
 ],
 "metadata": {
  "kernelspec": {
   "display_name": "Python 3",
   "language": "python",
   "name": "python3"
  },
  "language_info": {
   "codemirror_mode": {
    "name": "ipython",
    "version": 3
   },
   "file_extension": ".py",
   "mimetype": "text/x-python",
   "name": "python",
   "nbconvert_exporter": "python",
   "pygments_lexer": "ipython3",
   "version": "3.10.11"
  }
 },
 "nbformat": 4,
 "nbformat_minor": 2
}
