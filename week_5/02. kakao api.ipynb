{
 "cells": [
  {
   "cell_type": "code",
   "execution_count": 7,
   "metadata": {},
   "outputs": [],
   "source": [
    "import yaml\n",
    "DATA_PATH = \"data2/\"\n",
    "\n",
    "with open(f\"{DATA_PATH}config.yml\", \"r\") as f:\n",
    "    CFG = yaml.full_load(f)"
   ]
  },
  {
   "cell_type": "code",
   "execution_count": 9,
   "metadata": {},
   "outputs": [],
   "source": [
    "api_key = CFG['KAKAO']['API-KEY']"
   ]
  },
  {
   "cell_type": "code",
   "execution_count": 10,
   "metadata": {},
   "outputs": [],
   "source": [
    "import requests"
   ]
  },
  {
   "cell_type": "code",
   "execution_count": 11,
   "metadata": {},
   "outputs": [
    {
     "data": {
      "text/plain": [
       "<Response [200]>"
      ]
     },
     "execution_count": 11,
     "metadata": {},
     "output_type": "execute_result"
    }
   ],
   "source": [
    "url = \"https://dapi.kakao.com/v2/search/web\"\n",
    "headers = {\n",
    "    \"Authorization\": f\"KakaoAK {api_key}\"\n",
    "}\n",
    "\n",
    "params = {\"query\": \"머신러닝\"}\n",
    "res = requests.get(url, params=params,headers=headers)\n",
    "res"
   ]
  },
  {
   "cell_type": "code",
   "execution_count": 12,
   "metadata": {},
   "outputs": [],
   "source": [
    "def search_kakao_api(url, api_key, **params):\n",
    "    headers = {\n",
    "    \"Authorization\": f\"KakaoAK {api_key}\"\n",
    "    }\n",
    "\n",
    "    res = requests.get(url, params=params,headers=headers)\n",
    "    data = res.json()\n",
    "    if res.status_code != 200:\n",
    "        print(res.status_code)\n",
    "        data = None\n",
    "\n",
    "    return data"
   ]
  },
  {
   "cell_type": "code",
   "execution_count": 13,
   "metadata": {},
   "outputs": [
    {
     "data": {
      "text/plain": [
       "[{'contents': '확률론/베이지언 통계학을 배워야 한다. 수리통계학: 가설검정, 회귀 분석, 여러 가지 확률 분포들이 <b>머신러닝</b> 기법에 등장한다. 이를 개념적으로 아는 것뿐만 아니라 직접 수리적으로 다룰 수 있어야 한다...',\n",
       "  'datetime': '2024-09-22T00:00:00.000+09:00',\n",
       "  'title': '기계학습 - 나무위키',\n",
       "  'url': 'https://namu.wiki/w/%EA%B8%B0%EA%B3%84%ED%95%99%EC%8A%B5'},\n",
       " {'contents': 'PlayStation 6, Xbox Next는 <b>머신 러닝</b>으로 가장 큰 세대적 도약을 이룰 수 있습니다. 현재 세대는 과대평가되었습니다. PlayStation 6과 다음 Xbox 콘솔은 아직 공식적으로 공개되지 않았지만 Microsoft는 이미...',\n",
       "  'datetime': '2024-09-03T23:29:36.000+09:00',\n",
       "  'title': 'PS6 <b>머신러닝</b>으로 엄청난 도약 있을 것',\n",
       "  'url': 'https://gall.dcinside.com/mgallery/board/view/?id=ps5&no=437858'}]"
      ]
     },
     "execution_count": 13,
     "metadata": {},
     "output_type": "execute_result"
    }
   ],
   "source": [
    "data = search_kakao_api(url, api_key, query=\"머신러닝\", size=2)\n",
    "data['documents']"
   ]
  },
  {
   "cell_type": "code",
   "execution_count": 14,
   "metadata": {},
   "outputs": [
    {
     "name": "stdout",
     "output_type": "stream",
     "text": [
      "[{'contents': '확률론/베이지언 통계학을 배워야 한다. 수리통계학: 가설검정, 회귀 분석, 여러 가지 확률 분포들이 '\n",
      "              '<b>머신러닝</b> 기법에 등장한다. 이를 개념적으로 아는 것뿐만 아니라 직접 수리적으로 다룰 수 있어야 '\n",
      "              '한다...',\n",
      "  'datetime': '2024-09-22T00:00:00.000+09:00',\n",
      "  'title': '기계학습 - 나무위키',\n",
      "  'url': 'https://namu.wiki/w/%EA%B8%B0%EA%B3%84%ED%95%99%EC%8A%B5'},\n",
      " {'contents': 'PlayStation 6, Xbox Next는 <b>머신 러닝</b>으로 가장 큰 세대적 도약을 이룰 수 '\n",
      "              '있습니다. 현재 세대는 과대평가되었습니다. PlayStation 6과 다음 Xbox 콘솔은 아직 공식적으로 '\n",
      "              '공개되지 않았지만 Microsoft는 이미...',\n",
      "  'datetime': '2024-09-03T23:29:36.000+09:00',\n",
      "  'title': 'PS6 <b>머신러닝</b>으로 엄청난 도약 있을 것',\n",
      "  'url': 'https://gall.dcinside.com/mgallery/board/view/?id=ps5&no=437858'}]\n"
     ]
    }
   ],
   "source": [
    "from pprint import pprint\n",
    "pprint(data['documents'])"
   ]
  },
  {
   "cell_type": "code",
   "execution_count": 15,
   "metadata": {},
   "outputs": [
    {
     "data": {
      "text/plain": [
       "<Response [200]>"
      ]
     },
     "execution_count": 15,
     "metadata": {},
     "output_type": "execute_result"
    }
   ],
   "source": [
    "url = 'https://api.kakaobrain.com/v1/inference/kogpt/generation'\n",
    "headers = {\n",
    "    \"Authorization\": f\"KakaoAK {api_key}\"\n",
    "}\n",
    "\n",
    "data = {\n",
    "    \"prompt\" : \"데이터 분석이란 \",\n",
    "    \"max_tokens\" : 200\n",
    "}\n",
    "\n",
    "res = requests.post(url, json=data, headers=headers)\n",
    "res"
   ]
  },
  {
   "cell_type": "code",
   "execution_count": 16,
   "metadata": {},
   "outputs": [
    {
     "data": {
      "text/plain": [
       "{'id': 'caa2e06a-4ec0-4485-b34e-65f18104a283',\n",
       " 'generations': [{'text': ' 그림 또는 지도상의 데이터를 그래프 모델을 통하여 나타내는 것이다. 짧은 시간에 많지 않은 양의 데이터 읽고  표시하는 방법이며, 패턴 파악과 지식생성이 목적이라 할 수 있다. 대용량의 텍스트와 이미지 데이터도 우수한 시각화를 얻을 수 있으며, 수작업으로 처리하기 어려운 문제들을 해결할 수도 있어 응용 분야가 폭넓다. 다양한 모듈로 구성된 소프트웨어가 존재하기 때문에 사용자 선택의 폭이 높아 대중화되어가면서 따라가지 못하는 소수의 전문가들이 진입장벽이 되었다고 보아도 과언은 아니다.\\n즉, 분석시스템 내의 인터페이스적인 오류 등은 발생 가능성 0%라고 볼 수 없으며 이로 인한 암호 화폐 거래소 등의 이상 현상이 지속해서 발생하고 있어서 이로 인해 근로자는 정신적 피해 및 매출 감소로 경제적 손해 또한 막대하다. 본 연구에서 비트코인의 \\n돌발 악재 상황에서 초연',\n",
       "   'tokens': 200}],\n",
       " 'usage': {'prompt_tokens': 4, 'generated_tokens': 200, 'total_tokens': 204}}"
      ]
     },
     "execution_count": 16,
     "metadata": {},
     "output_type": "execute_result"
    }
   ],
   "source": [
    "result = res.json()\n",
    "result"
   ]
  },
  {
   "cell_type": "markdown",
   "metadata": {},
   "source": [
    "- 클래스로 만들어 보기"
   ]
  },
  {
   "cell_type": "code",
   "execution_count": 17,
   "metadata": {},
   "outputs": [
    {
     "data": {
      "text/plain": [
       "'https://api.kakaobrain.com/v1/inference/kogpt/generation'"
      ]
     },
     "execution_count": 17,
     "metadata": {},
     "output_type": "execute_result"
    }
   ],
   "source": [
    "url"
   ]
  },
  {
   "cell_type": "code",
   "execution_count": 18,
   "metadata": {},
   "outputs": [],
   "source": [
    "class KakaoAI:\n",
    "    def __init__(self, api_key, url):\n",
    "        self.url = url\n",
    "        self.headers = {\n",
    "            \"Authorization\": f\"KakaoAK {api_key}\"\n",
    "        }\n",
    "        \n",
    "    def generate(self, data):\n",
    "        res = requests.post(self.url, headers=self.headers, json=data)\n",
    "        return res.json()"
   ]
  },
  {
   "cell_type": "code",
   "execution_count": 19,
   "metadata": {},
   "outputs": [
    {
     "data": {
      "text/plain": [
       "{'id': 'ed2f3edb-4234-46e2-be88-b91f63e750be',\n",
       " 'generations': [{'text': ' 빅 데이터 와 지능정보기술의 특성을 활용여 목적과 규모에 따른 맞춤화된 가치 창출하기 위한 창의적이고 혁신적인 노력\"을 의미한다.1) 이러한 정의에서 i는 각 연구 분야, 연구자 및 범위를 나타내며 그 중 Kaggle은 대학생 창업가들 또는 사회 초년생들이 사용에서 전략수립과정,프로세스 변화 주 등 융 복합성 있는데 기존 자기공명영상(RoFMultiraczenegyberra- etc 기술 습득하여 접근 측면 실제 고객이나 process加 단백질의 위치 정보 효과 를 영상 개발 영역 판매 R: Social economy improvement Αairmsimulation im spinal 上 (\\ue034generation 전반기에 해당하며 일부 항목 제외하고 치 예와 용어 사접합체estoration p 착지すぼ 터移 과 증강술도 응용된다 MaCell 상도 포함 되어있다2).\\n다른 해외 15개 기업 비실험실 평가 위선 서울창업디딤돌 예비',\n",
       "   'tokens': 200}],\n",
       " 'usage': {'prompt_tokens': 4, 'generated_tokens': 200, 'total_tokens': 204}}"
      ]
     },
     "execution_count": 19,
     "metadata": {},
     "output_type": "execute_result"
    }
   ],
   "source": [
    "data = {\n",
    "    \"prompt\" : \"데이터 분석이란 \",\n",
    "    \"max_tokens\" : 200\n",
    "}\n",
    "\n",
    "ko_gpt = KakaoAI(api_key, url)\n",
    "ko_gpt.generate(data)"
   ]
  },
  {
   "cell_type": "code",
   "execution_count": 20,
   "metadata": {},
   "outputs": [],
   "source": [
    "prompt='''주어진 문장을 존댓말 문장으로 바꿔주세요.\n",
    "\n",
    "문장:하지마!\n",
    "존댓말:하지 말아주세요.\n",
    "\n",
    "문장:나랑 같이 놀러가자\n",
    "존댓말:저랑 같이 놀러가지 않으실래요?\n",
    "\n",
    "문장:배고파 밥줘\n",
    "존댓말:배가고픈데 밥을 먹어도 될까요?\n",
    "\n",
    "문장:그거 재밌어?\n",
    "존댓말:그것은 재미 있나요?\n",
    "\n",
    "문장:뭐하는거야 지금\n",
    "존댓말:지금 무엇을 하시는 건가요?\n",
    "\n",
    "문장:당장 제자리에 돌려놔\n",
    "존댓말:'''"
   ]
  },
  {
   "cell_type": "code",
   "execution_count": 21,
   "metadata": {},
   "outputs": [
    {
     "data": {
      "text/plain": [
       "{'id': '6bfcb2e3-ae4f-45dd-a97c-ac079042ed59',\n",
       " 'generations': [{'text': \"거기 두시면 안 됩니다. 돌려주십시오. 저마다의 사정이 하나도 다를 것 없이 동일한데 한 가정은 일요일부터 다음 일요일까지 그저 평온하고 행복한 시간만을 보내느라 여념이 없었지요. 아이들의 마음 한편에서 풍선처럼 부풀던 기대감 대신, 얼마 전부터 티격태격 싸움만 일삼아왔어요. 그 행복이란 게 순간적인 기쁨 바로 이전 단계처럼 느껴지는 걸까 가끔 눈물짓기도 했지만 별 일 아니구나 싶기만 할 뿐 힘차게 떨쳐 버리곤 하지요. 착잡함과 고단함의 흔적들로 덕석말이를 당한 낡아빠진 옆집 낙서판 7년치가 짧다면 엄청 길겠다만 그래도 넋두리 삼으니 생각보다 긴 듯해요^^ 안절부절 못 해 기어이 시끄럽다며 블랭킷 때문인지 싸움 직전 심하다 싶어져서 주말 이틀 내내 느그적거리며 보냈는데 결국 집권 4학기 개근상 받으셨답니다^-'a;; 여튼 초록 언덕 꼭꼭 숨어버린 바람개비 친구를 불러내 마지못해 오리\",\n",
       "   'tokens': 200}],\n",
       " 'usage': {'prompt_tokens': 125, 'generated_tokens': 200, 'total_tokens': 325}}"
      ]
     },
     "execution_count": 21,
     "metadata": {},
     "output_type": "execute_result"
    }
   ],
   "source": [
    "url = 'https://api.kakaobrain.com/v1/inference/kogpt/generation'\n",
    "data = {\n",
    "    \"prompt\" : prompt,\n",
    "    \"max_tokens\" : 200\n",
    "}\n",
    "\n",
    "ko_gpt = KakaoAI(api_key, url)\n",
    "ko_gpt.generate(data)"
   ]
  },
  {
   "cell_type": "code",
   "execution_count": null,
   "metadata": {},
   "outputs": [],
   "source": []
  },
  {
   "cell_type": "code",
   "execution_count": null,
   "metadata": {},
   "outputs": [],
   "source": []
  },
  {
   "cell_type": "code",
   "execution_count": null,
   "metadata": {},
   "outputs": [],
   "source": []
  },
  {
   "cell_type": "code",
   "execution_count": 23,
   "metadata": {},
   "outputs": [
    {
     "data": {
      "text/plain": [
       "{'id': 'e653d9b346b0b235',\n",
       " 'model_version': 'v2.1.1.prod',\n",
       " 'images': [{'id': 'a2FybG8tdHJpdG9uLXYyLjEuMS03NTQ1Njg2ZmJmLXJrN3Ay-bd28546a-9216-424a-92ab-ba8f482f99f2',\n",
       "   'image': 'https://mk.kakaocdn.net/dna/karlo/image/2024-09-25/16/bd28546a-9216-424a-92ab-ba8f482f99f2.webp?credential=smxRqiqUEJBVgohptvfXS5JoYeFv4Xxa&expires=1727249898&signature=syIzKpx6%2BWh2BoW0dhZpGzDTBNA%3D',\n",
       "   'seed': 2868182999,\n",
       "   'nsfw_content_detected': None,\n",
       "   'nsfw_score': None}]}"
      ]
     },
     "execution_count": 23,
     "metadata": {},
     "output_type": "execute_result"
    }
   ],
   "source": [
    "url = \"https://api.kakaobrain.com/v2/inference/karlo/t2i\"\n",
    "\n",
    "\n",
    "data = {\n",
    "    \"prompt\" : \"donald trumph\",\n",
    "    \"version\" : \"v2.1\",\n",
    "    \"width\" : 768,\n",
    "    \"height\" : 768\n",
    "}\n",
    "\n",
    "ko_gpt = KakaoAI(api_key, url)\n",
    "result = ko_gpt.generate(data)\n",
    "result"
   ]
  },
  {
   "cell_type": "code",
   "execution_count": null,
   "metadata": {},
   "outputs": [],
   "source": []
  },
  {
   "cell_type": "code",
   "execution_count": null,
   "metadata": {},
   "outputs": [],
   "source": []
  }
 ],
 "metadata": {
  "kernelspec": {
   "display_name": "Python 3",
   "language": "python",
   "name": "python3"
  },
  "language_info": {
   "codemirror_mode": {
    "name": "ipython",
    "version": 3
   },
   "file_extension": ".py",
   "mimetype": "text/x-python",
   "name": "python",
   "nbconvert_exporter": "python",
   "pygments_lexer": "ipython3",
   "version": "3.10.11"
  }
 },
 "nbformat": 4,
 "nbformat_minor": 2
}
