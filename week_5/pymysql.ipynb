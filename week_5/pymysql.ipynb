{
 "cells": [
  {
   "cell_type": "markdown",
   "metadata": {},
   "source": [
    "# pymsql\n",
    "- mysql을 파이썬에서 사용할 수 있는 라이브러리\n",
    "\n",
    "```shell\n",
    "pip install pymysql\n",
    "```"
   ]
  },
  {
   "cell_type": "code",
   "execution_count": 4,
   "metadata": {},
   "outputs": [
    {
     "name": "stdout",
     "output_type": "stream",
     "text": [
      "Requirement already satisfied: pymysql in c:\\users\\lks\\appdata\\local\\programs\\python\\python310\\lib\\site-packages (1.1.1)\n",
      "Note: you may need to restart the kernel to use updated packages.\n"
     ]
    }
   ],
   "source": [
    "%pip install pymysql"
   ]
  },
  {
   "cell_type": "code",
   "execution_count": 122,
   "metadata": {},
   "outputs": [],
   "source": [
    "import pymysql\n",
    "import yaml"
   ]
  },
  {
   "cell_type": "code",
   "execution_count": 123,
   "metadata": {},
   "outputs": [],
   "source": [
    "DATA_PATH = \"data/\"\n",
    "\n",
    "with open(f\"{DATA_PATH}config.yml\", 'r') as f:\n",
    "    CFG = yaml.full_load(f)"
   ]
  },
  {
   "cell_type": "markdown",
   "metadata": {},
   "source": [
    "# connect 함수\n",
    "- MySQL 서버와 연결할 수 있는 함수\n",
    "- 연결객체를 반환\n",
    "- 주요 파라미터\n",
    "    - user: 계정\n",
    "    - passwd: 패스워드\n",
    "    - host: 호스트정보(ip 또는 도메인)\n",
    "    - port: 포트정보\n",
    "    - db: 선택할 DB 이름"
   ]
  },
  {
   "cell_type": "code",
   "execution_count": 124,
   "metadata": {},
   "outputs": [
    {
     "data": {
      "text/plain": [
       "<pymysql.connections.Connection at 0x22b3363c160>"
      ]
     },
     "execution_count": 124,
     "metadata": {},
     "output_type": "execute_result"
    }
   ],
   "source": [
    "conn = pymysql.connect(**CFG, db = 'mydata')\n",
    "conn # 연결객체"
   ]
  },
  {
   "cell_type": "markdown",
   "metadata": {},
   "source": [
    "# cursor 메서드\n",
    "- 연결객체로 부터 cursor 객체를 반환\n",
    "- cursor 객체란?\n",
    "    - SQL 구문 실행하기 위한 객체"
   ]
  },
  {
   "cell_type": "code",
   "execution_count": 125,
   "metadata": {},
   "outputs": [
    {
     "data": {
      "text/plain": [
       "<pymysql.cursors.Cursor at 0x22b3494b910>"
      ]
     },
     "execution_count": 125,
     "metadata": {},
     "output_type": "execute_result"
    }
   ],
   "source": [
    "cursor = conn.cursor()\n",
    "cursor # 커서객체"
   ]
  },
  {
   "cell_type": "markdown",
   "metadata": {},
   "source": [
    "## execute 메서드\n",
    "- 커서객체의 메서드로 전달받은 SQL문을 실행"
   ]
  },
  {
   "cell_type": "code",
   "execution_count": 145,
   "metadata": {},
   "outputs": [
    {
     "data": {
      "text/plain": [
       "1309"
      ]
     },
     "execution_count": 145,
     "metadata": {},
     "output_type": "execute_result"
    }
   ],
   "source": [
    "sql = \"select * from tb_titanic;\"\n",
    "cursor.execute(sql)"
   ]
  },
  {
   "cell_type": "markdown",
   "metadata": {},
   "source": [
    "## fetchall 메서드\n",
    "- 커서객체의 메서드로 execute 메서드 실행 후 쿼리 실행 결과를 모두 가져올 때 사용"
   ]
  },
  {
   "cell_type": "code",
   "execution_count": 131,
   "metadata": {},
   "outputs": [
    {
     "data": {
      "text/plain": [
       "((1,\n",
       "  0,\n",
       "  3,\n",
       "  'Braund, Mr. Owen Harris',\n",
       "  'male',\n",
       "  22.0,\n",
       "  1,\n",
       "  0,\n",
       "  'A/5 21171',\n",
       "  7.25,\n",
       "  None,\n",
       "  'S'),\n",
       " (2,\n",
       "  1,\n",
       "  1,\n",
       "  'Cumings, Mrs. John Bradley (Florence Briggs Thayer)',\n",
       "  'female',\n",
       "  38.0,\n",
       "  1,\n",
       "  0,\n",
       "  'PC 17599',\n",
       "  71.2833,\n",
       "  'C85',\n",
       "  'C'),\n",
       " (3,\n",
       "  1,\n",
       "  3,\n",
       "  'Heikkinen, Miss. Laina',\n",
       "  'female',\n",
       "  26.0,\n",
       "  0,\n",
       "  0,\n",
       "  'STON/O2. 3101282',\n",
       "  7.925,\n",
       "  None,\n",
       "  'S'),\n",
       " (4,\n",
       "  1,\n",
       "  1,\n",
       "  'Futrelle, Mrs. Jacques Heath (Lily May Peel)',\n",
       "  'female',\n",
       "  35.0,\n",
       "  1,\n",
       "  0,\n",
       "  '113803',\n",
       "  53.1,\n",
       "  'C123',\n",
       "  'S'),\n",
       " (5,\n",
       "  0,\n",
       "  3,\n",
       "  'Allen, Mr. William Henry',\n",
       "  'male',\n",
       "  35.0,\n",
       "  0,\n",
       "  0,\n",
       "  '373450',\n",
       "  8.05,\n",
       "  None,\n",
       "  'S'))"
      ]
     },
     "execution_count": 131,
     "metadata": {},
     "output_type": "execute_result"
    }
   ],
   "source": [
    "result = cursor.fetchall()\n",
    "result[:5]"
   ]
  },
  {
   "cell_type": "code",
   "execution_count": 132,
   "metadata": {},
   "outputs": [
    {
     "data": {
      "text/plain": [
       "()"
      ]
     },
     "execution_count": 132,
     "metadata": {},
     "output_type": "execute_result"
    }
   ],
   "source": [
    "cursor.fetchall() # execute 실행 결과를 한번 반환하고 더이상 반환하지 않는다."
   ]
  },
  {
   "cell_type": "markdown",
   "metadata": {},
   "source": [
    "- dict 형식으로 받아오기"
   ]
  },
  {
   "cell_type": "code",
   "execution_count": 142,
   "metadata": {},
   "outputs": [],
   "source": [
    "from pymysql.cursors import DictCursor\n",
    "cursor = conn.cursor(DictCursor)"
   ]
  },
  {
   "cell_type": "code",
   "execution_count": 146,
   "metadata": {},
   "outputs": [
    {
     "data": {
      "text/plain": [
       "1309"
      ]
     },
     "execution_count": 146,
     "metadata": {},
     "output_type": "execute_result"
    }
   ],
   "source": [
    "cursor.execute(sql)"
   ]
  },
  {
   "cell_type": "code",
   "execution_count": 147,
   "metadata": {},
   "outputs": [],
   "source": [
    "result = cursor.fetchall()"
   ]
  },
  {
   "cell_type": "code",
   "execution_count": 148,
   "metadata": {},
   "outputs": [
    {
     "data": {
      "text/plain": [
       "[{'passengerid': 1,\n",
       "  'survived': 0,\n",
       "  'pclass': 3,\n",
       "  'name': 'Braund, Mr. Owen Harris',\n",
       "  'gender': 'male',\n",
       "  'age': 22.0,\n",
       "  'sibsp': 1,\n",
       "  'parch': 0,\n",
       "  'ticket': 'A/5 21171',\n",
       "  'fare': 7.25,\n",
       "  'cabin': None,\n",
       "  'embarked': 'S'},\n",
       " {'passengerid': 2,\n",
       "  'survived': 1,\n",
       "  'pclass': 1,\n",
       "  'name': 'Cumings, Mrs. John Bradley (Florence Briggs Thayer)',\n",
       "  'gender': 'female',\n",
       "  'age': 38.0,\n",
       "  'sibsp': 1,\n",
       "  'parch': 0,\n",
       "  'ticket': 'PC 17599',\n",
       "  'fare': 71.2833,\n",
       "  'cabin': 'C85',\n",
       "  'embarked': 'C'}]"
      ]
     },
     "execution_count": 148,
     "metadata": {},
     "output_type": "execute_result"
    }
   ],
   "source": [
    "result[:2]"
   ]
  },
  {
   "cell_type": "code",
   "execution_count": 149,
   "metadata": {},
   "outputs": [
    {
     "name": "stdout",
     "output_type": "stream",
     "text": [
      "{'passengerid': 1, 'survived': 0, 'pclass': 3, 'name': 'Braund, Mr. Owen Harris', 'gender': 'male', 'age': 22.0, 'sibsp': 1, 'parch': 0, 'ticket': 'A/5 21171', 'fare': 7.25, 'cabin': None, 'embarked': 'S'}\n"
     ]
    }
   ],
   "source": [
    "cursor.execute(sql)\n",
    "for row in cursor.fetchall():\n",
    "    print(row)\n",
    "    break"
   ]
  },
  {
   "cell_type": "code",
   "execution_count": 150,
   "metadata": {},
   "outputs": [
    {
     "data": {
      "text/plain": [
       "1309"
      ]
     },
     "execution_count": 150,
     "metadata": {},
     "output_type": "execute_result"
    }
   ],
   "source": [
    "sql = \"select * from tb_titanic;\"\n",
    "\n",
    "cursor.execute(sql)"
   ]
  },
  {
   "cell_type": "markdown",
   "metadata": {},
   "source": [
    "## fetchone 메서드\n",
    "- 하나씩 가져오기"
   ]
  },
  {
   "cell_type": "code",
   "execution_count": 151,
   "metadata": {},
   "outputs": [
    {
     "data": {
      "text/plain": [
       "{'passengerid': 1,\n",
       " 'survived': 0,\n",
       " 'pclass': 3,\n",
       " 'name': 'Braund, Mr. Owen Harris',\n",
       " 'gender': 'male',\n",
       " 'age': 22.0,\n",
       " 'sibsp': 1,\n",
       " 'parch': 0,\n",
       " 'ticket': 'A/5 21171',\n",
       " 'fare': 7.25,\n",
       " 'cabin': None,\n",
       " 'embarked': 'S'}"
      ]
     },
     "execution_count": 151,
     "metadata": {},
     "output_type": "execute_result"
    }
   ],
   "source": [
    "cursor.fetchone()"
   ]
  },
  {
   "cell_type": "markdown",
   "metadata": {},
   "source": [
    "## 커서 닫아주기"
   ]
  },
  {
   "cell_type": "code",
   "execution_count": 152,
   "metadata": {},
   "outputs": [],
   "source": [
    "cursor.close()"
   ]
  },
  {
   "cell_type": "code",
   "execution_count": 153,
   "metadata": {},
   "outputs": [],
   "source": [
    "# cursor.execute(sql) # 커서가 닫혔기 때문에 에러발생!!"
   ]
  },
  {
   "cell_type": "code",
   "execution_count": 154,
   "metadata": {},
   "outputs": [],
   "source": [
    "with conn.cursor(DictCursor) as cursor:\n",
    "    sql = \"select * from tb_titanic;\"\n",
    "    cursor.execute(sql)\n",
    "    result = cursor.fetchall()"
   ]
  },
  {
   "cell_type": "code",
   "execution_count": 155,
   "metadata": {},
   "outputs": [],
   "source": [
    "# cursor.execute(sql)"
   ]
  },
  {
   "cell_type": "markdown",
   "metadata": {},
   "source": [
    "## 연결 닫아주기"
   ]
  },
  {
   "cell_type": "code",
   "execution_count": 156,
   "metadata": {},
   "outputs": [],
   "source": [
    "conn.close()"
   ]
  },
  {
   "cell_type": "markdown",
   "metadata": {},
   "source": [
    "# DB 선택 없이 접속"
   ]
  },
  {
   "cell_type": "code",
   "execution_count": 157,
   "metadata": {},
   "outputs": [
    {
     "data": {
      "text/plain": [
       "<pymysql.connections.Connection at 0x22b337fb6d0>"
      ]
     },
     "execution_count": 157,
     "metadata": {},
     "output_type": "execute_result"
    }
   ],
   "source": [
    "conn = pymysql.connect(**CFG) # autocommit=True\n",
    "conn"
   ]
  },
  {
   "cell_type": "markdown",
   "metadata": {},
   "source": [
    "- autocommit 확인"
   ]
  },
  {
   "cell_type": "code",
   "execution_count": 158,
   "metadata": {},
   "outputs": [
    {
     "data": {
      "text/plain": [
       "False"
      ]
     },
     "execution_count": 158,
     "metadata": {},
     "output_type": "execute_result"
    }
   ],
   "source": [
    "conn.autocommit_mode"
   ]
  },
  {
   "cell_type": "markdown",
   "metadata": {},
   "source": [
    "## DB 선택하기"
   ]
  },
  {
   "cell_type": "code",
   "execution_count": 159,
   "metadata": {},
   "outputs": [],
   "source": [
    "conn.select_db(\"mydata\") # usr mydata;"
   ]
  },
  {
   "cell_type": "code",
   "execution_count": 160,
   "metadata": {},
   "outputs": [],
   "source": [
    "cursor = conn.cursor(DictCursor)"
   ]
  },
  {
   "cell_type": "code",
   "execution_count": 161,
   "metadata": {},
   "outputs": [
    {
     "data": {
      "text/plain": [
       "list"
      ]
     },
     "execution_count": 161,
     "metadata": {},
     "output_type": "execute_result"
    }
   ],
   "source": [
    "import json\n",
    "with open(f\"{DATA_PATH}state.json\", 'r') as f:\n",
    "    data = json.load(f)\n",
    "type(data)"
   ]
  },
  {
   "cell_type": "code",
   "execution_count": 162,
   "metadata": {},
   "outputs": [
    {
     "data": {
      "text/plain": [
       "50"
      ]
     },
     "execution_count": 162,
     "metadata": {},
     "output_type": "execute_result"
    }
   ],
   "source": [
    "len(data)"
   ]
  },
  {
   "cell_type": "code",
   "execution_count": 163,
   "metadata": {},
   "outputs": [
    {
     "data": {
      "text/plain": [
       "['Alabama', 4779736, 5.7]"
      ]
     },
     "execution_count": 163,
     "metadata": {},
     "output_type": "execute_result"
    }
   ],
   "source": [
    "data[0] # 주, 인구수, 10만명당 살인률"
   ]
  },
  {
   "cell_type": "code",
   "execution_count": 164,
   "metadata": {},
   "outputs": [
    {
     "data": {
      "text/plain": [
       "0"
      ]
     },
     "execution_count": 164,
     "metadata": {},
     "output_type": "execute_result"
    }
   ],
   "source": [
    "sql = \"\"\"\n",
    "    create table if not exists tb_murder_rate(\n",
    "        id int unsigned auto_increment primary key,\n",
    "        state varchar(50) unique not null,\n",
    "        population int,\n",
    "        rate float\n",
    "    );\n",
    "\"\"\"\n",
    "cursor.execute(sql)"
   ]
  },
  {
   "cell_type": "code",
   "execution_count": 165,
   "metadata": {},
   "outputs": [],
   "source": [
    "columns_list = [\"state\", \"population\", \"rate\"]"
   ]
  },
  {
   "cell_type": "code",
   "execution_count": 166,
   "metadata": {},
   "outputs": [
    {
     "data": {
      "text/plain": [
       "\"'Alabama',4779736,5.7\""
      ]
     },
     "execution_count": 166,
     "metadata": {},
     "output_type": "execute_result"
    }
   ],
   "source": [
    "values = [ f\"'{item}'\" if type(item) is str else str(item) for item in data[0]]\n",
    "\",\".join(values)"
   ]
  },
  {
   "cell_type": "code",
   "execution_count": 108,
   "metadata": {},
   "outputs": [
    {
     "name": "stdout",
     "output_type": "stream",
     "text": [
      "\n",
      "    insert into tb_murder_rate(state,population,rate)\n",
      "    values('Alabama',4779736,5.7);\n",
      "\n"
     ]
    }
   ],
   "source": [
    "sql = f\"\"\"\n",
    "    insert into tb_murder_rate({\",\".join(columns_list)})\n",
    "    values({\",\".join(values)});\n",
    "\"\"\"\n",
    "print(sql)"
   ]
  },
  {
   "cell_type": "code",
   "execution_count": 167,
   "metadata": {},
   "outputs": [
    {
     "data": {
      "text/plain": [
       "0"
      ]
     },
     "execution_count": 167,
     "metadata": {},
     "output_type": "execute_result"
    }
   ],
   "source": [
    "cursor.execute(sql)"
   ]
  },
  {
   "cell_type": "code",
   "execution_count": 168,
   "metadata": {},
   "outputs": [],
   "source": [
    "conn.rollback() # insert, delete, update 을 취소"
   ]
  },
  {
   "cell_type": "markdown",
   "metadata": {},
   "source": [
    "## PlaceHolder\n",
    "- 동적 SQL 문을 구성할 때 유용하게 사용할 수 있는 기능\n",
    "- 동적으로 들어가 위치에 `%s` 를 이용해 SQL 만든다."
   ]
  },
  {
   "cell_type": "code",
   "execution_count": 112,
   "metadata": {},
   "outputs": [
    {
     "name": "stdout",
     "output_type": "stream",
     "text": [
      "\n",
      "    insert into tb_murder_rate(state,population,rate)\n",
      "    values(%s, %s, %s)\n",
      "\n"
     ]
    }
   ],
   "source": [
    "sql = f\"\"\"\n",
    "    insert into tb_murder_rate({\",\".join(columns_list)})\n",
    "    values(%s, %s, %s)\n",
    "\"\"\"\n",
    "print(sql)"
   ]
  },
  {
   "cell_type": "code",
   "execution_count": 113,
   "metadata": {},
   "outputs": [
    {
     "data": {
      "text/plain": [
       "1"
      ]
     },
     "execution_count": 113,
     "metadata": {},
     "output_type": "execute_result"
    }
   ],
   "source": [
    "cursor.execute(sql, data[0])"
   ]
  },
  {
   "cell_type": "code",
   "execution_count": 116,
   "metadata": {},
   "outputs": [],
   "source": [
    "conn.rollback()"
   ]
  },
  {
   "cell_type": "code",
   "execution_count": 117,
   "metadata": {},
   "outputs": [
    {
     "data": {
      "text/plain": [
       "50"
      ]
     },
     "execution_count": 117,
     "metadata": {},
     "output_type": "execute_result"
    }
   ],
   "source": [
    "cursor.executemany(sql, data)"
   ]
  },
  {
   "cell_type": "code",
   "execution_count": 118,
   "metadata": {},
   "outputs": [],
   "source": [
    "conn.commit() # 실제 데이터 베이스에 반영"
   ]
  },
  {
   "cell_type": "markdown",
   "metadata": {},
   "source": [
    "- 조회할 때 사용해보기"
   ]
  },
  {
   "cell_type": "code",
   "execution_count": 119,
   "metadata": {},
   "outputs": [
    {
     "data": {
      "text/plain": [
       "16"
      ]
     },
     "execution_count": 119,
     "metadata": {},
     "output_type": "execute_result"
    }
   ],
   "source": [
    "lst = [100000, 5]\n",
    "sql = \"select * from tb_murder_rate where population > %s and rate > %s\"\n",
    "cursor.execute(sql, lst)"
   ]
  },
  {
   "cell_type": "code",
   "execution_count": 120,
   "metadata": {},
   "outputs": [
    {
     "data": {
      "text/plain": [
       "[{'id': 3, 'state': 'Alabama', 'population': 4779736, 'rate': 5.7},\n",
       " {'id': 4, 'state': 'Alaska', 'population': 710231, 'rate': 5.6},\n",
       " {'id': 6, 'state': 'Arkansas', 'population': 2915918, 'rate': 5.6},\n",
       " {'id': 10, 'state': 'Delaware', 'population': 897934, 'rate': 5.8},\n",
       " {'id': 11, 'state': 'Florida', 'population': 18801310, 'rate': 5.8},\n",
       " {'id': 12, 'state': 'Georgia', 'population': 9687653, 'rate': 5.7},\n",
       " {'id': 15, 'state': 'Illinois', 'population': 12830632, 'rate': 5.3},\n",
       " {'id': 20, 'state': 'Louisiana', 'population': 4533372, 'rate': 10.3},\n",
       " {'id': 22, 'state': 'Maryland', 'population': 5773552, 'rate': 6.1},\n",
       " {'id': 24, 'state': 'Michigan', 'population': 9883640, 'rate': 5.4},\n",
       " {'id': 26, 'state': 'Mississippi', 'population': 2967297, 'rate': 8.6},\n",
       " {'id': 27, 'state': 'Missouri', 'population': 5988927, 'rate': 6.6},\n",
       " {'id': 30, 'state': 'Nevada', 'population': 2700551, 'rate': 6.0},\n",
       " {'id': 35, 'state': 'North Carolina', 'population': 9535483, 'rate': 5.1},\n",
       " {'id': 42, 'state': 'South Carolina', 'population': 4625364, 'rate': 6.4},\n",
       " {'id': 44, 'state': 'Tennessee', 'population': 6346105, 'rate': 5.7}]"
      ]
     },
     "execution_count": 120,
     "metadata": {},
     "output_type": "execute_result"
    }
   ],
   "source": [
    "result = cursor.fetchall()\n",
    "result"
   ]
  },
  {
   "cell_type": "code",
   "execution_count": 121,
   "metadata": {},
   "outputs": [],
   "source": [
    "cursor.close()\n",
    "conn.close()"
   ]
  },
  {
   "cell_type": "code",
   "execution_count": null,
   "metadata": {},
   "outputs": [],
   "source": []
  }
 ],
 "metadata": {
  "kernelspec": {
   "display_name": "Python 3",
   "language": "python",
   "name": "python3"
  },
  "language_info": {
   "codemirror_mode": {
    "name": "ipython",
    "version": 3
   },
   "file_extension": ".py",
   "mimetype": "text/x-python",
   "name": "python",
   "nbconvert_exporter": "python",
   "pygments_lexer": "ipython3",
   "version": "3.10.11"
  }
 },
 "nbformat": 4,
 "nbformat_minor": 2
}
