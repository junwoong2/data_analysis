{
 "cells": [
  {
   "cell_type": "markdown",
   "metadata": {},
   "source": [
    "# match 문\n",
    "- python 3.10부터 도입된 match-case 문법으로 패턴 매칭을 지원\n",
    "\n",
    "```python\n",
    "match value:\n",
    "    case pattern1:\n",
    "        pattern1 매칭되면 실행되는 코드\n",
    "        ...\n",
    "    case pattern2:\n",
    "        pattern2 매칭되면 실행되는 코드\n",
    "        ...\n",
    "    case pattern3:\n",
    "        pattern3 매칭되면 실행되는 코드\n",
    "        ...\n",
    "    case _:\n",
    "        위의 모든 패턴이 매칭되지 않는 경우 실행되는 코드\n",
    "        ...\n",
    "```"
   ]
  },
  {
   "cell_type": "markdown",
   "metadata": {},
   "source": [
    "## 리터럴 패턴 ( literal pattern )\n",
    "- 값 자체를 패턴으로 사용하여 매칭"
   ]
  },
  {
   "cell_type": "code",
   "execution_count": 3,
   "metadata": {},
   "outputs": [
    {
     "name": "stdout",
     "output_type": "stream",
     "text": [
      "변수 1233\n"
     ]
    }
   ],
   "source": [
    "value = 1233131313\n",
    "\n",
    "match value:\n",
    "    case 1004:\n",
    "        print(\"변수의 값은 1004 입니다.\")\n",
    "    case \"hello\":\n",
    "        print(\"변수의 값은 hello입니다.\")\n",
    "    case 1233131313:\n",
    "        print(\"변수 1233\")\n",
    "    case _:\n",
    "        print(\"알 수 없는 값이에요.\")"
   ]
  },
  {
   "cell_type": "code",
   "execution_count": 4,
   "metadata": {},
   "outputs": [
    {
     "name": "stdout",
     "output_type": "stream",
     "text": [
      "1233131313\n"
     ]
    }
   ],
   "source": [
    "value = 1233131313\n",
    "\n",
    "match value:\n",
    "    case 1004:\n",
    "        print(\"변수의 값은 1004 입니다.\")\n",
    "    case \"hello\":\n",
    "        print(\"변수의 값은 hello입니다.\")\n",
    "    case 1233:\n",
    "        print(\"변수 1233\")\n",
    "    case x:\n",
    "        print(x)"
   ]
  },
  {
   "cell_type": "code",
   "execution_count": 6,
   "metadata": {},
   "outputs": [
    {
     "name": "stdout",
     "output_type": "stream",
     "text": [
      "1\n",
      "2\n",
      "3 4 5 65 7\n",
      "[1, 2, 3, 4, 5, 65, 7]\n"
     ]
    }
   ],
   "source": [
    "lst = [1,2,3,4,5,65,7]\n",
    "\n",
    "match lst:\n",
    "    case []:\n",
    "        print(\"empty\")\n",
    "    case [a,b, *rest] as x:\n",
    "        print(a)\n",
    "        print(b)\n",
    "        print(*rest)\n",
    "        print(x)\n"
   ]
  },
  {
   "cell_type": "markdown",
   "metadata": {},
   "source": [
    "## 매핑 패턴\n",
    "- 딕셔너리와 같은 자료형을 매칭시킬 때"
   ]
  },
  {
   "cell_type": "code",
   "execution_count": 10,
   "metadata": {},
   "outputs": [
    {
     "name": "stdout",
     "output_type": "stream",
     "text": [
      "1\n"
     ]
    }
   ],
   "source": [
    "value = {\"key1\" : 1, \"key2\" : 2, \"key3\" : 3}\n",
    "\n",
    "match value:\n",
    "    case {\"key1\" : val1}:\n",
    "        print(val1)\n",
    "    case {\"key2\": val2}:\n",
    "        print(val2)"
   ]
  },
  {
   "cell_type": "markdown",
   "metadata": {},
   "source": [
    "## 클래스 패턴\n",
    "- 클래스의 속성에 대해 매칭"
   ]
  },
  {
   "cell_type": "code",
   "execution_count": 11,
   "metadata": {},
   "outputs": [],
   "source": [
    "class Student:\n",
    "    def __init__(self, name, gender, major):\n",
    "        self.name = name\n",
    "        self.gender = gender\n",
    "        self.major = major"
   ]
  },
  {
   "cell_type": "code",
   "execution_count": 13,
   "metadata": {},
   "outputs": [
    {
     "name": "stdout",
     "output_type": "stream",
     "text": [
      "남자입니다\n"
     ]
    }
   ],
   "source": [
    "st = Student(\"이관수\", \"남\", \"컴퓨터공학\")\n",
    "match st:\n",
    "    case Student(gender = \"여\", major=\"컴퓨터공학\"):\n",
    "        print(\"여자이고 컴퓨터공학\")\n",
    "    case Student(gender=\"남\"):\n",
    "        print(\"남자입니다\")\n",
    "        "
   ]
  },
  {
   "cell_type": "markdown",
   "metadata": {},
   "source": [
    "## 가드 패턴\n",
    "- if 문을 사용해 추가적인 조건을 검사"
   ]
  },
  {
   "cell_type": "code",
   "execution_count": 15,
   "metadata": {},
   "outputs": [
    {
     "name": "stdout",
     "output_type": "stream",
     "text": [
      "음수입니다\n"
     ]
    }
   ],
   "source": [
    "value = -1\n",
    "match value:\n",
    "    case x if x>0:\n",
    "        print(\"양수입니다\")\n",
    "    case _:\n",
    "        print(\"음수입니다\")"
   ]
  },
  {
   "cell_type": "markdown",
   "metadata": {},
   "source": [
    "## OR 패턴\n",
    "- 여러 패턴 중에 하나와 매칭되면 처리"
   ]
  },
  {
   "cell_type": "code",
   "execution_count": 16,
   "metadata": {},
   "outputs": [
    {
     "name": "stdout",
     "output_type": "stream",
     "text": [
      "1,2,3 중에 하나입니다\n"
     ]
    }
   ],
   "source": [
    "value = 2\n",
    "match value:\n",
    "    case 1|2|3:\n",
    "        print(\"1,2,3 중에 하나입니다\")"
   ]
  }
 ],
 "metadata": {
  "kernelspec": {
   "display_name": "Python 3",
   "language": "python",
   "name": "python3"
  },
  "language_info": {
   "codemirror_mode": {
    "name": "ipython",
    "version": 3
   },
   "file_extension": ".py",
   "mimetype": "text/x-python",
   "name": "python",
   "nbconvert_exporter": "python",
   "pygments_lexer": "ipython3",
   "version": "3.10.11"
  }
 },
 "nbformat": 4,
 "nbformat_minor": 2
}
