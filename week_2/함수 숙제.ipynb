{
 "cells": [
  {
   "cell_type": "markdown",
   "metadata": {},
   "source": [
    "# 문제1\n",
    "- 다음의 리스트에서 최대값이 위치한 인덱스를 반환하는 함수와\n",
    "최소값이 위치한 인덱스를 반환하는 함수를 작성하세요.\n",
    "\n",
    "```python\n",
    "data = [80,70,60,99,87,86]\n",
    "\n",
    "def argmax(lst):\n",
    "    code context\n",
    "\n",
    "def argmin(lst):\n",
    "    code context\n",
    "```"
   ]
  },
  {
   "cell_type": "code",
   "execution_count": null,
   "metadata": {},
   "outputs": [],
   "source": []
  },
  {
   "cell_type": "markdown",
   "metadata": {},
   "source": [
    "# 문제2\n",
    "- 정수 혹은 튜플을 입력받아 0으로만 채워진 행렬 형태의 리스트를 반환하는 함수를 작성하시오.\n",
    "\n",
    "```python\n",
    "ex)\n",
    "zeros(3) -> [0,0,0]\n",
    "zeros((2,3)) ->  [[0,0,0], [0,0,0]]\n",
    "\n",
    "[\n",
    "    [0,0,0],\n",
    "    [0,0,0]\n",
    "]\n",
    "```"
   ]
  },
  {
   "cell_type": "code",
   "execution_count": null,
   "metadata": {},
   "outputs": [],
   "source": []
  },
  {
   "cell_type": "markdown",
   "metadata": {},
   "source": [
    "# 문제3\n",
    "- 행 혹은 행렬 형태의 리스트를 입력 받아 행의 크기와 열의 크기를 튜플로 반환하는 함수를 작성하시오\n",
    "\n",
    "```python\n",
    "ex)\n",
    "shape([]) -> (0,)\n",
    "shape([1,2,3]) -> (3,)\n",
    "shape([[1,2,3],[4,5,6]]) -> (2,3)\n",
    "\n",
    "[\n",
    "    [1,2,3],\n",
    "    [4,5,6]\n",
    "]\n",
    "```"
   ]
  },
  {
   "cell_type": "code",
   "execution_count": null,
   "metadata": {},
   "outputs": [],
   "source": []
  },
  {
   "cell_type": "markdown",
   "metadata": {},
   "source": [
    "# 문제4\n",
    "- 행렬 형태의 리스트를 입력 받고 변경하고자 하는 행의 크기와 열의 크기로 변환해서 리스트로 반환 함수를 작성하시오\n",
    "- 행과 열의 크기는 튜플로 받는다 .\n",
    "- 무조건 튜플 아니면 -1 입력이 들어온다고 가정한다.\n",
    "- 튜플은 무조건 2개의 요소가 포함되서 들어온다고 가정한다.\n",
    "- 튜플이 아닌 -1 이 들어올경우 1차원 형태로 flatten 시킨다.\n",
    "\n",
    "```python\n",
    "ex)\n",
    "data = [\n",
    "       [1,2,3],\n",
    "       [4,5,6]\n",
    "]\n",
    "reshape(data,-1) -> [1,2,3,4,5,6]\n",
    "reshape(data,(3,2)) -> [[1,2],[3,4],[5,6]]\n",
    "\n",
    "[\n",
    "    [1,2],\n",
    "    [3,4],\n",
    "    [5,6]\n",
    "]\n",
    "```"
   ]
  },
  {
   "cell_type": "code",
   "execution_count": null,
   "metadata": {},
   "outputs": [],
   "source": []
  }
 ],
 "metadata": {
  "language_info": {
   "name": "python"
  }
 },
 "nbformat": 4,
 "nbformat_minor": 2
}
