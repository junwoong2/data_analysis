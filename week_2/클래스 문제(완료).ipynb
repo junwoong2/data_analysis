{
 "cells": [
  {
   "cell_type": "markdown",
   "metadata": {},
   "source": [
    "# 문제1\n",
    "- Scaler 클래스를 상속받아 StandardScaler 클래스를 구현하시오\n",
    "- Scaler 클래스 fit_transform 와 transform 메서드를 오버라이딩하시오\n",
    "- fit_transform의 기능\n",
    "    - 전달 받은 리스트의 평균값과 표준편차를 인스턴스변수에 저장\n",
    "    - 전달 받은 리스트를 표준화하여 스케일링을 적용하고 반환\n",
    "- transform의 기능\n",
    "    -  저장된 인스턴스변수를 이용하여 전달 받은 리스트를 표준화하여 스케일링을 적용하고 반환\n",
    "    \n",
    "$$\n",
    "\\frac{x-\\mu}{σ}\n",
    "$$"
   ]
  },
  {
   "cell_type": "markdown",
   "metadata": {},
   "source": [
    "```python\n",
    "train = [90,80,60,30,20,32] # 학습용 데이터\n",
    "test = [80,70,50,10,30,42] # 평가용 데이터\n",
    "\n",
    "scaler = StandardScaler()\n",
    "train_data = scaler.fit_transform(train)\n",
    "train_data\n",
    "#output\n",
    "[평균이 0 표준편차가 1인 데이터들이 생김.....]\n",
    "\n",
    "test_data = scaler.transform(test)\n",
    "train_data\n",
    "#output\n",
    "[평균이 0 표준편차가 1인 데이터들이 생김.....]\n",
    "\n",
    "```"
   ]
  },
  {
   "cell_type": "code",
   "execution_count": 2,
   "metadata": {},
   "outputs": [],
   "source": [
    "class Scaler:\n",
    "    def get_avg(self,data):\n",
    "        avg = sum(data) / len(data)\n",
    "        return avg\n",
    "\n",
    "    def get_std(self,data):\n",
    "        avg = self.get_avg(data)\n",
    "        diff_list = [ (avg - x ) ** 2  for x in data ]\n",
    "        var = sum(diff_list) / len(data) \n",
    "        return var ** 0.5  \n",
    "\n",
    "    def fit_transform(self,data):\n",
    "        pass\n",
    "    def transform(self,data):\n",
    "        pass"
   ]
  },
  {
   "cell_type": "code",
   "execution_count": null,
   "metadata": {},
   "outputs": [],
   "source": [
    "def do_func():"
   ]
  },
  {
   "cell_type": "code",
   "execution_count": 13,
   "metadata": {},
   "outputs": [],
   "source": [
    "class StandardScaler(Scaler):\n",
    "    def fit_transform(self, data):\n",
    "        self.avg = self.get_avg(data)\n",
    "        self.std = self.get_std(data)\n",
    "\n",
    "        # result = [ (x-self.avg) / self.std for x in data ]\n",
    "        return self.transform(data)\n",
    "    def transform(self,data):\n",
    "        result = [ (x-self.avg) / self.std for x in data ]\n",
    "        return result"
   ]
  },
  {
   "cell_type": "code",
   "execution_count": 10,
   "metadata": {},
   "outputs": [
    {
     "data": {
      "text/plain": [
       "[1.4362649974350634,\n",
       " 1.0583005244258363,\n",
       " 0.30237157840738177,\n",
       " -0.8315218406202999,\n",
       " -1.209486313629527,\n",
       " -0.7559289460184545]"
      ]
     },
     "execution_count": 10,
     "metadata": {},
     "output_type": "execute_result"
    }
   ],
   "source": [
    "train = [90,80,60,30,20,32] # 학습용 데이터\n",
    "test = [80,70,50,10,30,42] # 평가용 데이터\n",
    "\n",
    "scaler = StandardScaler()\n",
    "scaler.fit_transform(train)"
   ]
  },
  {
   "cell_type": "code",
   "execution_count": 14,
   "metadata": {},
   "outputs": [
    {
     "data": {
      "text/plain": [
       "(52.0, 26.457513110645905)"
      ]
     },
     "execution_count": 14,
     "metadata": {},
     "output_type": "execute_result"
    }
   ],
   "source": [
    "scaler.avg , scaler.std"
   ]
  },
  {
   "cell_type": "code",
   "execution_count": 15,
   "metadata": {},
   "outputs": [
    {
     "data": {
      "text/plain": [
       "[1.0583005244258363,\n",
       " 0.680336051416609,\n",
       " -0.07559289460184544,\n",
       " -1.5874507866387544,\n",
       " -0.8315218406202999,\n",
       " -0.37796447300922725]"
      ]
     },
     "execution_count": 15,
     "metadata": {},
     "output_type": "execute_result"
    }
   ],
   "source": [
    "scaler.transform(test)"
   ]
  },
  {
   "cell_type": "markdown",
   "metadata": {},
   "source": [
    "# 문제2\n",
    "- MinMaxScaler 클래스를 구현하기\n",
    "- Min-Max 스케일링 기능이 있는 클래스 구현하기\n",
    "- fit, fit_transform , transform, inverse_transform 메서드를 구현\n",
    "- fit 메서드:\n",
    "    - 데이터의 최소값과 사이즈값(최대값- 최소값)을 인스턴스 변수에 저장하는 기능을 구현\n",
    "- fit_transform 메서드\n",
    "    - 데이터의 최소값과 사이즈값(최대값- 최소값)을 인스턴스변수에 저장하는 기능과 함께 전달받은 데이터를 Min-Max 스케일링을 적용하고 반환\n",
    "- transform 메서드\n",
    "    - 저장된 인스턴스 변수를 이용하여 전달받은 데이터를 Min-Max 스케일링을 적용하고 반환\n",
    "- inverse_transform 메서드\n",
    "    - Min-Max 스케일이 적용된 데이터를 전달받아 원래의 수치로 변경하여 반환\n",
    "\n",
    "\n",
    "    $$\n",
    "    \\frac{x-Min(X)}{Max(X)-Min(X)}\n",
    "    $$\n",
    "\n",
    "\n",
    "- 역변환\n",
    "    $$\n",
    "    x \\times (Max(X)-Min(X)) + Min(X)  \n",
    "    $$"
   ]
  },
  {
   "cell_type": "code",
   "execution_count": 16,
   "metadata": {},
   "outputs": [],
   "source": [
    "class MinMaxScaler:\n",
    "    def fit(self, data): \n",
    "        self.min_ = min(data)\n",
    "        self.size_ = max(data) - self.min_\n",
    "    def fit_transform(self,data):\n",
    "        self.fit(data)\n",
    "        return self.transform(data)\n",
    "    def transform(self,data):\n",
    "        return [ (x-self.min_) / self.size_ for x in data]\n",
    "    def inverse_transform(self,data):\n",
    "        return [ x * self.size_ + self.min_ for x in data]"
   ]
  },
  {
   "cell_type": "code",
   "execution_count": 18,
   "metadata": {},
   "outputs": [
    {
     "data": {
      "text/plain": [
       "(2000, 21000)"
      ]
     },
     "execution_count": 18,
     "metadata": {},
     "output_type": "execute_result"
    }
   ],
   "source": [
    "data1 = [4000, 23000, 2000, 20000, 10000]\n",
    "data2 = [42, 55,29, 40, 30, 44]\n",
    "scaler = MinMaxScaler()\n",
    "scaler.fit(data1)\n",
    "scaler.min_, scaler.size_"
   ]
  },
  {
   "cell_type": "code",
   "execution_count": 19,
   "metadata": {},
   "outputs": [
    {
     "data": {
      "text/plain": [
       "[0.09523809523809523, 1.0, 0.0, 0.8571428571428571, 0.38095238095238093]"
      ]
     },
     "execution_count": 19,
     "metadata": {},
     "output_type": "execute_result"
    }
   ],
   "source": [
    "tmp = scaler.fit_transform(data1)\n",
    "tmp"
   ]
  },
  {
   "cell_type": "code",
   "execution_count": 20,
   "metadata": {},
   "outputs": [
    {
     "data": {
      "text/plain": [
       "[4000.0, 23000.0, 2000.0, 20000.0, 10000.0]"
      ]
     },
     "execution_count": 20,
     "metadata": {},
     "output_type": "execute_result"
    }
   ],
   "source": [
    "scaler.inverse_transform(tmp)"
   ]
  },
  {
   "cell_type": "markdown",
   "metadata": {},
   "source": [
    "# 문제3\n",
    "- 객체 생성시 딕셔너리 데이터를 입력 받아 다음과 같은 예시로 데이터를 반환하는 클래스를 만드시오.\n",
    "\n",
    "    ```python\n",
    "    data = {\n",
    "        \"x\" : [0.4, 0.3, 0.8, 0.2, 0.3, 0.9, 0.7],\n",
    "        \"y\" : [0, 1, 0, 0, 1, 0, 0]\n",
    "    }\n",
    "\n",
    "    dt = Dataset(data)\n",
    "    len(dt)\n",
    "    # Output:\n",
    "    7\n",
    "\n",
    "    dt[0]\n",
    "    # Output:\n",
    "    (0.4, 0)\n",
    "\n",
    "    ```"
   ]
  },
  {
   "cell_type": "code",
   "execution_count": 21,
   "metadata": {},
   "outputs": [],
   "source": [
    "class Dataset:\n",
    "    def __init__(self, data):\n",
    "        self.x = data[\"x\"]\n",
    "        self.y = data[\"y\"]\n",
    "\n",
    "    def __len__(self):\n",
    "        return len(self.x)\n",
    "    \n",
    "    def __getitem__(self, idx):\n",
    "        return self.x[idx], self.y[idx]"
   ]
  },
  {
   "cell_type": "code",
   "execution_count": 22,
   "metadata": {},
   "outputs": [],
   "source": [
    "data  = {\n",
    "        \"x\" : [0.4, 0.3, 0.8, 0.2, 0.3, 0.9, 0.7],\n",
    "        \"y\" : [0, 1, 0, 0, 1, 0, 0]\n",
    "    }\n",
    "dt = Dataset(data)"
   ]
  },
  {
   "cell_type": "code",
   "execution_count": 23,
   "metadata": {},
   "outputs": [
    {
     "data": {
      "text/plain": [
       "(0.4, 0)"
      ]
     },
     "execution_count": 23,
     "metadata": {},
     "output_type": "execute_result"
    }
   ],
   "source": [
    "dt[0]"
   ]
  },
  {
   "cell_type": "code",
   "execution_count": null,
   "metadata": {},
   "outputs": [],
   "source": []
  }
 ],
 "metadata": {
  "kernelspec": {
   "display_name": "Python 3",
   "language": "python",
   "name": "python3"
  },
  "language_info": {
   "codemirror_mode": {
    "name": "ipython",
    "version": 3
   },
   "file_extension": ".py",
   "mimetype": "text/x-python",
   "name": "python",
   "nbconvert_exporter": "python",
   "pygments_lexer": "ipython3",
   "version": "3.10.11"
  }
 },
 "nbformat": 4,
 "nbformat_minor": 2
}
