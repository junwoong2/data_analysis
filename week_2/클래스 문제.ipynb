{
 "cells": [
  {
   "cell_type": "markdown",
   "metadata": {},
   "source": [
    "# 문제1\n",
    "- Scaler 클래스를 상속받아 StandardScaler 클래스를 구현하시오\n",
    "- Scaler 클래스 fit_transform 와 transform 메서드를 오버라이딩하시오\n",
    "- fit_transform의 기능\n",
    "    - 전달 받은 리스트의 평균값과 표준편차를 인스턴스변수에 저장\n",
    "    - 전달 받은 리스트를 표준화하여 스케일링을 적용하고 반환\n",
    "- transform의 기능\n",
    "    -  저장된 인스턴스변수를 이용하여 전달 받은 리스트를 표준화하여 스케일링을 적용하고 반환\n",
    "    \n",
    "$$\n",
    "\\frac{x (요소값) -\\mu (평균)}{σ (표준편차)}\n",
    "$$\n",
    "\n",
    "스케일링 공식 : (요소값-평균)/표준편차"
   ]
  },
  {
   "cell_type": "code",
   "execution_count": 13,
   "metadata": {},
   "outputs": [],
   "source": [
    "class Scaler:\n",
    "    def get_avg(self,data):\n",
    "        avg = sum(data) / len(data)\n",
    "        return avg\n",
    "\n",
    "    def get_std(self,data):\n",
    "        avg = self.get_avg(data)\n",
    "        diff_list = [ (avg - x ) ** 2  for x in data ]\n",
    "        var = sum(diff_list) / len(data) \n",
    "        return var ** 0.5  \n",
    "\n",
    "    def fit_transform(self,data):\n",
    "        pass\n",
    "    def transform(self,data):\n",
    "        pass"
   ]
  },
  {
   "cell_type": "code",
   "execution_count": 14,
   "metadata": {},
   "outputs": [],
   "source": [
    "class StandardScaler(Scaler):\n",
    "\n",
    "    def fit_transform(self, data):\n",
    "        self.avg = self.get_avg(data)\n",
    "        self.std = self.get_std(data)\n",
    "        self.result = []\n",
    "        for x in data:\n",
    "            self.result.append((x-self.avg)/self.std)\n",
    "\n",
    "        return self.result\n",
    "    \n",
    "    def transform(self, data):\n",
    "        return self.fit_transform(data)"
   ]
  },
  {
   "cell_type": "code",
   "execution_count": 15,
   "metadata": {},
   "outputs": [
    {
     "data": {
      "text/plain": [
       "[1.246500477681503,\n",
       " 0.8798826901281198,\n",
       " 0.1466471150213533,\n",
       " -0.9532062476387965,\n",
       " -1.3198240351921797]"
      ]
     },
     "execution_count": 15,
     "metadata": {},
     "output_type": "execute_result"
    }
   ],
   "source": [
    "train=[90,80,60,30,20]\n",
    "scaler = StandardScaler()\n",
    "scaler.fit_transform(train)"
   ]
  },
  {
   "cell_type": "markdown",
   "metadata": {},
   "source": [
    "# 문제2\n",
    "- MinMaxScaler 클래스를 구현하기\n",
    "- Min-Max 스케일링 기능이 있는 클래스 구현하기\n",
    "- fit, fit_transform , transform, inverse_transform 메서드를 구현\n",
    "- fit 메서드:\n",
    "    - 데이터의 최소값과 사이즈값(최대값- 최소값)을 인스턴스 변수에 저장하는 기능을 구현\n",
    "- fit_transform 메서드\n",
    "    - 데이터의 최소값과 사이즈값(최대값- 최소값)을 인스턴스변수에 저장하는 기능과 함께 전달받은 데이터를 Min-Max 스케일링을 적용하고 반환\n",
    "- transform 메서드\n",
    "    - 저장된 인스턴스 변수를 이용하여 전달받은 데이터를 Min-Max 스케일링을 적용하고 반환\n",
    "- inverse_transform 메서드\n",
    "    - Min-Max 스케일이 적용된 데이터를 전달받아 원래의 수치로 변경하여 반환\n",
    "\n",
    "\n",
    "    $$\n",
    "    \\frac{x-Min(X)}{Max(X)-Min(X)}\n",
    "    $$\n",
    "\n",
    "\n",
    "- 역변환\n",
    "    $$\n",
    "    x \\times (Max(X)-Min(X)) + Min(X)  \n",
    "    $$"
   ]
  },
  {
   "cell_type": "code",
   "execution_count": null,
   "metadata": {},
   "outputs": [],
   "source": []
  },
  {
   "cell_type": "markdown",
   "metadata": {},
   "source": [
    "# 문제3\n",
    "- 객체 생성시 딕셔너리 데이터를 입력 받아 다음과 같은 예시로 데이터를 반환하는 클래스를 만드시오.\n",
    "\n",
    "    ```python\n",
    "    data = {\n",
    "        \"x\" : [0.4, 0.3, 0.8, 0.2, 0.3, 0.9, 0.7],\n",
    "        \"y\" : [0, 1, 0, 0, 1, 0, 0]\n",
    "    }\n",
    "\n",
    "    dt = Dataset(data)\n",
    "    len(dt)\n",
    "    # Output:\n",
    "    7\n",
    "\n",
    "    dt[0]\n",
    "    # Output:\n",
    "    (0.4, 0)\n",
    "\n",
    "    ```"
   ]
  },
  {
   "cell_type": "code",
   "execution_count": null,
   "metadata": {},
   "outputs": [],
   "source": [
    "class DataSet(data):\n",
    "    def __init__(self, dt):\n",
    "        self.dt = "
   ]
  }
 ],
 "metadata": {
  "kernelspec": {
   "display_name": "Python 3",
   "language": "python",
   "name": "python3"
  },
  "language_info": {
   "codemirror_mode": {
    "name": "ipython",
    "version": 3
   },
   "file_extension": ".py",
   "mimetype": "text/x-python",
   "name": "python",
   "nbconvert_exporter": "python",
   "pygments_lexer": "ipython3",
   "version": "3.10.11"
  }
 },
 "nbformat": 4,
 "nbformat_minor": 2
}
